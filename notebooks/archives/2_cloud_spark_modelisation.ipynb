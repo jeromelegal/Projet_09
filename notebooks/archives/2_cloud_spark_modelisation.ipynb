{
 "cells": [
  {
   "cell_type": "markdown",
   "id": "d55397d8-66d3-40cf-9669-d448cac3c014",
   "metadata": {},
   "source": [
    "# Projet_09 : Réalisez un traitement dans un environnement Big Data sur le Cloud"
   ]
  },
  {
   "cell_type": "markdown",
   "id": "2dcf4eae-52de-4bab-a588-29c69e1e1696",
   "metadata": {},
   "source": [
    "# Etape 2 : Migrez votre chaîne de traitement dans le cloud\n",
    "---"
   ]
  },
  {
   "cell_type": "markdown",
   "id": "33a43845",
   "metadata": {},
   "source": [
    "## Import des librairies"
   ]
  },
  {
   "cell_type": "code",
   "execution_count": 2,
   "id": "95b3beec-be92-48f0-949c-c2f6e21ee9ec",
   "metadata": {},
   "outputs": [
    {
     "data": {
      "application/vnd.jupyter.widget-view+json": {
       "model_id": "",
       "version_major": 2,
       "version_minor": 0
      },
      "text/plain": [
       "FloatProgress(value=0.0, bar_style='info', description='Progress:', layout=Layout(height='25px', width='50%'),…"
      ]
     },
     "metadata": {},
     "output_type": "display_data"
    }
   ],
   "source": [
    "# start spark session"
   ]
  },
  {
   "cell_type": "markdown",
   "id": "a7d4bf4a-a445-401b-8bca-3a89ecae341b",
   "metadata": {},
   "source": [
    "Une session Spark est automatiquement démarrée."
   ]
  },
  {
   "cell_type": "code",
   "execution_count": 1,
   "id": "a5c0c74f",
   "metadata": {},
   "outputs": [
    {
     "name": "stdout",
     "output_type": "stream",
     "text": [
      "Starting Spark application\n"
     ]
    },
    {
     "data": {
      "text/html": [
       "<table>\n",
       "<tr><th>ID</th><th>YARN Application ID</th><th>Kind</th><th>State</th><th>Spark UI</th><th>Driver log</th><th>User</th><th>Current session?</th></tr><tr><td>0</td><td>application_1738920115233_0001</td><td>pyspark</td><td>idle</td><td><a target=\"_blank\" href=\"http://ip-172-31-8-147.eu-west-3.compute.internal:20888/proxy/application_1738920115233_0001/\">Link</a></td><td><a target=\"_blank\" href=\"http://ip-172-31-9-66.eu-west-3.compute.internal:8042/node/containerlogs/container_1738920115233_0001_01_000001/livy\">Link</a></td><td>None</td><td>✔</td></tr></table>"
      ],
      "text/plain": [
       "<IPython.core.display.HTML object>"
      ]
     },
     "metadata": {},
     "output_type": "display_data"
    },
    {
     "data": {
      "application/vnd.jupyter.widget-view+json": {
       "model_id": "",
       "version_major": 2,
       "version_minor": 0
      },
      "text/plain": [
       "FloatProgress(value=0.0, bar_style='info', description='Progress:', layout=Layout(height='25px', width='50%'),…"
      ]
     },
     "metadata": {},
     "output_type": "display_data"
    },
    {
     "name": "stdout",
     "output_type": "stream",
     "text": [
      "SparkSession available as 'spark'.\n"
     ]
    },
    {
     "data": {
      "application/vnd.jupyter.widget-view+json": {
       "model_id": "",
       "version_major": 2,
       "version_minor": 0
      },
      "text/plain": [
       "FloatProgress(value=0.0, bar_style='info', description='Progress:', layout=Layout(height='25px', width='50%'),…"
      ]
     },
     "metadata": {},
     "output_type": "display_data"
    }
   ],
   "source": [
    "import pandas as pd\n",
    "from PIL\n",
    "import numpy as np\n",
    "import io\n",
    "import os\n",
    "\n",
    "import tensorflow as tf\n",
    "from tensorflow.keras.applications.mobilenet_v2 import MobileNetV2, preprocess_input\n",
    "from tensorflow.keras.preprocessing.image import img_to_array\n",
    "from tensorflow.keras import Model\n",
    "from pyspark.sql.functions import col, pandas_udf, PandasUDFType, element_at, split, udf\n",
    "\n",
    "from pyspark.ml.feature import PCA\n",
    "from pyspark.ml import Pipeline\n",
    "from pyspark.ml.feature import VectorAssembler\n",
    "\n",
    "################################################################################\n",
    "## Libraries version :\n",
    "\n",
    "print(f\"Pandas : {pd.__version__}\")\n",
    "print(f\"Numpy : {np.__version__}\")\n",
    "print(f\"Pillow : {PIL.__version__}\")\n",
    "print(f\"Tensorflow : {tf.__version__}\")\n",
    "print(f\"PySpark : {pyspark.__version__}\")"
   ]
  },
  {
   "cell_type": "markdown",
   "id": "b7951143-747a-4415-b3cb-0f08ddb2301c",
   "metadata": {},
   "source": [
    "---\n",
    "## Définition des emplacements :"
   ]
  },
  {
   "cell_type": "markdown",
   "id": "1637a1f2-9219-45b3-9474-49a5cf66bbbb",
   "metadata": {},
   "source": [
    "Les images ont été chargées sur le cloud, dans mon bucket S3.  \n",
    "Je définis les différents emplacements dans le bucket :\n",
    "* Images de Test dans : *s3://jlegal-bucket/Test*\n",
    "* Fichiers finaux en `parquet` : *s3://jlegal-bucket/Results*"
   ]
  },
  {
   "cell_type": "code",
   "execution_count": 3,
   "id": "cde0aa67",
   "metadata": {},
   "outputs": [
    {
     "data": {
      "application/vnd.jupyter.widget-view+json": {
       "model_id": "",
       "version_major": 2,
       "version_minor": 0
      },
      "text/plain": [
       "FloatProgress(value=0.0, bar_style='info', description='Progress:', layout=Layout(height='25px', width='50%'),…"
      ]
     },
     "metadata": {},
     "output_type": "display_data"
    },
    {
     "name": "stdout",
     "output_type": "stream",
     "text": [
      "PATH:        s3://jlegal-bucket\n",
      "PATH_Data:   s3://jlegal-bucket/Test\n",
      "PATH_Result: s3://jlegal-bucket/Results"
     ]
    }
   ],
   "source": [
    "PATH = 's3://jlegal-bucket'\n",
    "PATH_Data = PATH+'/Test'\n",
    "PATH_Result = PATH+'/Results'\n",
    "print('PATH:        '+\\\n",
    "      PATH+'\\nPATH_Data:   '+\\\n",
    "      PATH_Data+'\\nPATH_Result: '+PATH_Result)"
   ]
  },
  {
   "cell_type": "markdown",
   "id": "386fe0bc",
   "metadata": {},
   "source": [
    "---\n",
    "---\n",
    "## 1.2 - Chargement des données\n",
    "\n",
    "Les images sont chargées au format binaire, ce qui offre, <br />\n",
    "plus de souplesse dans la façon de prétraiter les images.\n",
    "\n",
    "Avant de charger les images, nous spécifions que nous voulons charger <br />\n",
    "uniquement les fichiers dont l'extension est **jpg**.\n",
    "\n",
    "Nous indiquons également de charger tous les objets possibles contenus <br />\n",
    "dans les sous-dossiers du dossier communiqué."
   ]
  },
  {
   "cell_type": "code",
   "execution_count": 4,
   "id": "e68e53b9",
   "metadata": {},
   "outputs": [
    {
     "data": {
      "application/vnd.jupyter.widget-view+json": {
       "model_id": "",
       "version_major": 2,
       "version_minor": 0
      },
      "text/plain": [
       "FloatProgress(value=0.0, bar_style='info', description='Progress:', layout=Layout(height='25px', width='50%'),…"
      ]
     },
     "metadata": {},
     "output_type": "display_data"
    }
   ],
   "source": [
    "images = spark.read.format(\"binaryFile\") \\\n",
    "  .option(\"pathGlobFilter\", \"*.jpg\") \\\n",
    "  .option(\"recursiveFileLookup\", \"true\") \\\n",
    "  .load(PATH_Data)"
   ]
  },
  {
   "cell_type": "markdown",
   "id": "645faeaf",
   "metadata": {},
   "source": [
    "<u>Affichage des 5 premières images contenant</u> :\n",
    " - le path de l'image\n",
    " - la date et heure de sa dernière modification\n",
    " - sa longueur\n",
    " - son contenu encodé en valeur hexadécimal"
   ]
  },
  {
   "cell_type": "markdown",
   "id": "863981e5",
   "metadata": {},
   "source": [
    "<u>Je ne conserve que le **path** de l'image et j'ajoute une colonne contenant les **labels** de chaque image</u> :"
   ]
  },
  {
   "cell_type": "code",
   "execution_count": 5,
   "id": "a08b0494",
   "metadata": {},
   "outputs": [
    {
     "data": {
      "application/vnd.jupyter.widget-view+json": {
       "model_id": "",
       "version_major": 2,
       "version_minor": 0
      },
      "text/plain": [
       "FloatProgress(value=0.0, bar_style='info', description='Progress:', layout=Layout(height='25px', width='50%'),…"
      ]
     },
     "metadata": {},
     "output_type": "display_data"
    },
    {
     "name": "stdout",
     "output_type": "stream",
     "text": [
      "root\n",
      " |-- path: string (nullable = true)\n",
      " |-- modificationTime: timestamp (nullable = true)\n",
      " |-- length: long (nullable = true)\n",
      " |-- content: binary (nullable = true)\n",
      " |-- label: string (nullable = true)\n",
      "\n",
      "None\n",
      "+----------------------------------------------------+--------------+\n",
      "|path                                                |label         |\n",
      "+----------------------------------------------------+--------------+\n",
      "|s3://jlegal-bucket/Test/Apple Braeburn/r_326_100.jpg|Apple Braeburn|\n",
      "|s3://jlegal-bucket/Test/Apple Braeburn/r_4_100.jpg  |Apple Braeburn|\n",
      "|s3://jlegal-bucket/Test/Apple Braeburn/r_8_100.jpg  |Apple Braeburn|\n",
      "|s3://jlegal-bucket/Test/Apple Braeburn/r_324_100.jpg|Apple Braeburn|\n",
      "|s3://jlegal-bucket/Test/Apple Braeburn/r_327_100.jpg|Apple Braeburn|\n",
      "+----------------------------------------------------+--------------+\n",
      "only showing top 5 rows\n",
      "\n",
      "None"
     ]
    }
   ],
   "source": [
    "images = images.withColumn('label', element_at(split(images['path'], '/'),-2))\n",
    "print(images.printSchema())\n",
    "print(images.select('path','label').show(5,False))"
   ]
  },
  {
   "cell_type": "markdown",
   "id": "2da57856-f003-44fc-8750-8fe402f33c38",
   "metadata": {},
   "source": [
    "---\n",
    "---\n",
    "## 1.3 - Préparation du modèle :"
   ]
  },
  {
   "cell_type": "markdown",
   "id": "c6cc2492-f863-4988-950d-ec49fcf1a892",
   "metadata": {},
   "source": [
    "### 1.3.1 - Chargement du modèle : **MobileNetV2**"
   ]
  },
  {
   "cell_type": "code",
   "execution_count": 6,
   "id": "9cdd9bdf",
   "metadata": {
    "scrolled": true
   },
   "outputs": [
    {
     "data": {
      "application/vnd.jupyter.widget-view+json": {
       "model_id": "",
       "version_major": 2,
       "version_minor": 0
      },
      "text/plain": [
       "FloatProgress(value=0.0, bar_style='info', description='Progress:', layout=Layout(height='25px', width='50%'),…"
      ]
     },
     "metadata": {},
     "output_type": "display_data"
    },
    {
     "name": "stdout",
     "output_type": "stream",
     "text": [
      "Downloading data from https://storage.googleapis.com/tensorflow/keras-applications/mobilenet_v2/mobilenet_v2_weights_tf_dim_ordering_tf_kernels_1.0_224.h5\n",
      "\u001b[1m14536120/14536120\u001b[0m \u001b[32m━━━━━━━━━━━━━━━━━━━━\u001b[0m\u001b[37m\u001b[0m \u001b[1m1s\u001b[0m 0us/step"
     ]
    }
   ],
   "source": [
    "# load MobileNetV2 model \n",
    "model = MobileNetV2(weights='imagenet',\n",
    "                    include_top=True,\n",
    "                    input_shape=(224, 224, 3))"
   ]
  },
  {
   "cell_type": "markdown",
   "id": "b2e3f00d-c36c-45f7-9566-271b6e791e10",
   "metadata": {},
   "source": [
    "---\n",
    "### 1.3.2 - Création de notre modèle sans la dernière couche :"
   ]
  },
  {
   "cell_type": "code",
   "execution_count": 7,
   "id": "99d6b68d",
   "metadata": {},
   "outputs": [
    {
     "data": {
      "application/vnd.jupyter.widget-view+json": {
       "model_id": "",
       "version_major": 2,
       "version_minor": 0
      },
      "text/plain": [
       "FloatProgress(value=0.0, bar_style='info', description='Progress:', layout=Layout(height='25px', width='50%'),…"
      ]
     },
     "metadata": {},
     "output_type": "display_data"
    }
   ],
   "source": [
    "# create our model without last layer\n",
    "new_model = Model(inputs=model.input,\n",
    "                  outputs=model.layers[-2].output)"
   ]
  },
  {
   "cell_type": "markdown",
   "id": "7b197379",
   "metadata": {},
   "source": [
    "Affichage du résumé de notre nouveau modèle où nous constatons <br />\n",
    "que <u>nous récupérons bien en sortie un vecteur de dimension (1, 1, 1280)</u> :"
   ]
  },
  {
   "cell_type": "code",
   "execution_count": 8,
   "id": "e8207725",
   "metadata": {
    "scrolled": true
   },
   "outputs": [
    {
     "data": {
      "application/vnd.jupyter.widget-view+json": {
       "model_id": "",
       "version_major": 2,
       "version_minor": 0
      },
      "text/plain": [
       "FloatProgress(value=0.0, bar_style='info', description='Progress:', layout=Layout(height='25px', width='50%'),…"
      ]
     },
     "metadata": {},
     "output_type": "display_data"
    },
    {
     "name": "stdout",
     "output_type": "stream",
     "text": [
      "Model: \"functional_1\"\n",
      "┏━━━━━━━━━━━━━━━━━━━━━┳━━━━━━━━━━━━━━━━━━━┳━━━━━━━━━┳━━━━━━━━━━━━━━━━━━━━━━┓\n",
      "┃ Layer (type)        ┃ Output Shape      ┃ Param # ┃ Connected to         ┃\n",
      "┡━━━━━━━━━━━━━━━━━━━━━╇━━━━━━━━━━━━━━━━━━━╇━━━━━━━━━╇━━━━━━━━━━━━━━━━━━━━━━┩\n",
      "│ input_layer         │ (None, 224, 224,  │       0 │ -                    │\n",
      "│ (InputLayer)        │ 3)                │         │                      │\n",
      "├─────────────────────┼───────────────────┼─────────┼──────────────────────┤\n",
      "│ Conv1 (Conv2D)      │ (None, 112, 112,  │     864 │ input_layer[0][0]    │\n",
      "│                     │ 32)               │         │                      │\n",
      "├─────────────────────┼───────────────────┼─────────┼──────────────────────┤\n",
      "│ bn_Conv1            │ (None, 112, 112,  │     128 │ Conv1[0][0]          │\n",
      "│ (BatchNormalizatio… │ 32)               │         │                      │\n",
      "├─────────────────────┼───────────────────┼─────────┼──────────────────────┤\n",
      "│ Conv1_relu (ReLU)   │ (None, 112, 112,  │       0 │ bn_Conv1[0][0]       │\n",
      "│                     │ 32)               │         │                      │\n",
      "├─────────────────────┼───────────────────┼─────────┼──────────────────────┤\n",
      "│ expanded_conv_dept… │ (None, 112, 112,  │     288 │ Conv1_relu[0][0]     │\n",
      "│ (DepthwiseConv2D)   │ 32)               │         │                      │\n",
      "├─────────────────────┼───────────────────┼─────────┼──────────────────────┤\n",
      "│ expanded_conv_dept… │ (None, 112, 112,  │     128 │ expanded_conv_depth… │\n",
      "│ (BatchNormalizatio… │ 32)               │         │                      │\n",
      "├─────────────────────┼───────────────────┼─────────┼──────────────────────┤\n",
      "│ expanded_conv_dept… │ (None, 112, 112,  │       0 │ expanded_conv_depth… │\n",
      "│ (ReLU)              │ 32)               │         │                      │\n",
      "├─────────────────────┼───────────────────┼─────────┼──────────────────────┤\n",
      "│ expanded_conv_proj… │ (None, 112, 112,  │     512 │ expanded_conv_depth… │\n",
      "│ (Conv2D)            │ 16)               │         │                      │\n",
      "├─────────────────────┼───────────────────┼─────────┼──────────────────────┤\n",
      "│ expanded_conv_proj… │ (None, 112, 112,  │      64 │ expanded_conv_proje… │\n",
      "│ (BatchNormalizatio… │ 16)               │         │                      │\n",
      "├─────────────────────┼───────────────────┼─────────┼──────────────────────┤\n",
      "│ block_1_expand      │ (None, 112, 112,  │   1,536 │ expanded_conv_proje… │\n",
      "│ (Conv2D)            │ 96)               │         │                      │\n",
      "├─────────────────────┼───────────────────┼─────────┼──────────────────────┤\n",
      "│ block_1_expand_BN   │ (None, 112, 112,  │     384 │ block_1_expand[0][0] │\n",
      "│ (BatchNormalizatio… │ 96)               │         │                      │\n",
      "├─────────────────────┼───────────────────┼─────────┼──────────────────────┤\n",
      "│ block_1_expand_relu │ (None, 112, 112,  │       0 │ block_1_expand_BN[0… │\n",
      "│ (ReLU)              │ 96)               │         │                      │\n",
      "├─────────────────────┼───────────────────┼─────────┼──────────────────────┤\n",
      "│ block_1_pad         │ (None, 113, 113,  │       0 │ block_1_expand_relu… │\n",
      "│ (ZeroPadding2D)     │ 96)               │         │                      │\n",
      "├─────────────────────┼───────────────────┼─────────┼──────────────────────┤\n",
      "│ block_1_depthwise   │ (None, 56, 56,    │     864 │ block_1_pad[0][0]    │\n",
      "│ (DepthwiseConv2D)   │ 96)               │         │                      │\n",
      "├─────────────────────┼───────────────────┼─────────┼──────────────────────┤\n",
      "│ block_1_depthwise_… │ (None, 56, 56,    │     384 │ block_1_depthwise[0… │\n",
      "│ (BatchNormalizatio… │ 96)               │         │                      │\n",
      "├─────────────────────┼───────────────────┼─────────┼──────────────────────┤\n",
      "│ block_1_depthwise_… │ (None, 56, 56,    │       0 │ block_1_depthwise_B… │\n",
      "│ (ReLU)              │ 96)               │         │                      │\n",
      "├─────────────────────┼───────────────────┼─────────┼──────────────────────┤\n",
      "│ block_1_project     │ (None, 56, 56,    │   2,304 │ block_1_depthwise_r… │\n",
      "│ (Conv2D)            │ 24)               │         │                      │\n",
      "├─────────────────────┼───────────────────┼─────────┼──────────────────────┤\n",
      "│ block_1_project_BN  │ (None, 56, 56,    │      96 │ block_1_project[0][… │\n",
      "│ (BatchNormalizatio… │ 24)               │         │                      │\n",
      "├─────────────────────┼───────────────────┼─────────┼──────────────────────┤\n",
      "│ block_2_expand      │ (None, 56, 56,    │   3,456 │ block_1_project_BN[… │\n",
      "│ (Conv2D)            │ 144)              │         │                      │\n",
      "├─────────────────────┼───────────────────┼─────────┼──────────────────────┤\n",
      "│ block_2_expand_BN   │ (None, 56, 56,    │     576 │ block_2_expand[0][0] │\n",
      "│ (BatchNormalizatio… │ 144)              │         │                      │\n",
      "├─────────────────────┼───────────────────┼─────────┼──────────────────────┤\n",
      "│ block_2_expand_relu │ (None, 56, 56,    │       0 │ block_2_expand_BN[0… │\n",
      "│ (ReLU)              │ 144)              │         │                      │\n",
      "├─────────────────────┼───────────────────┼─────────┼──────────────────────┤\n",
      "│ block_2_depthwise   │ (None, 56, 56,    │   1,296 │ block_2_expand_relu… │\n",
      "│ (DepthwiseConv2D)   │ 144)              │         │                      │\n",
      "├─────────────────────┼───────────────────┼─────────┼──────────────────────┤\n",
      "│ block_2_depthwise_… │ (None, 56, 56,    │     576 │ block_2_depthwise[0… │\n",
      "│ (BatchNormalizatio… │ 144)              │         │                      │\n",
      "├─────────────────────┼───────────────────┼─────────┼──────────────────────┤\n",
      "│ block_2_depthwise_… │ (None, 56, 56,    │       0 │ block_2_depthwise_B… │\n",
      "│ (ReLU)              │ 144)              │         │                      │\n",
      "├─────────────────────┼───────────────────┼─────────┼──────────────────────┤\n",
      "│ block_2_project     │ (None, 56, 56,    │   3,456 │ block_2_depthwise_r… │\n",
      "│ (Conv2D)            │ 24)               │         │                      │\n",
      "├─────────────────────┼───────────────────┼─────────┼──────────────────────┤\n",
      "│ block_2_project_BN  │ (None, 56, 56,    │      96 │ block_2_project[0][… │\n",
      "│ (BatchNormalizatio… │ 24)               │         │                      │\n",
      "├─────────────────────┼───────────────────┼─────────┼──────────────────────┤\n",
      "│ block_2_add (Add)   │ (None, 56, 56,    │       0 │ block_1_project_BN[… │\n",
      "│                     │ 24)               │         │ block_2_project_BN[… │\n",
      "├─────────────────────┼───────────────────┼─────────┼──────────────────────┤\n",
      "│ block_3_expand      │ (None, 56, 56,    │   3,456 │ block_2_add[0][0]    │\n",
      "│ (Conv2D)            │ 144)              │         │                      │\n",
      "├─────────────────────┼───────────────────┼─────────┼──────────────────────┤\n",
      "│ block_3_expand_BN   │ (None, 56, 56,    │     576 │ block_3_expand[0][0] │\n",
      "│ (BatchNormalizatio… │ 144)              │         │                      │\n",
      "├─────────────────────┼───────────────────┼─────────┼──────────────────────┤\n",
      "│ block_3_expand_relu │ (None, 56, 56,    │       0 │ block_3_expand_BN[0… │\n",
      "│ (ReLU)              │ 144)              │         │                      │\n",
      "├─────────────────────┼───────────────────┼─────────┼──────────────────────┤\n",
      "│ block_3_pad         │ (None, 57, 57,    │       0 │ block_3_expand_relu… │\n",
      "│ (ZeroPadding2D)     │ 144)              │         │                      │\n",
      "├─────────────────────┼───────────────────┼─────────┼──────────────────────┤\n",
      "│ block_3_depthwise   │ (None, 28, 28,    │   1,296 │ block_3_pad[0][0]    │\n",
      "│ (DepthwiseConv2D)   │ 144)              │         │                      │\n",
      "├─────────────────────┼───────────────────┼─────────┼──────────────────────┤\n",
      "│ block_3_depthwise_… │ (None, 28, 28,    │     576 │ block_3_depthwise[0… │\n",
      "│ (BatchNormalizatio… │ 144)              │         │                      │\n",
      "├─────────────────────┼───────────────────┼─────────┼──────────────────────┤\n",
      "│ block_3_depthwise_… │ (None, 28, 28,    │       0 │ block_3_depthwise_B… │\n",
      "│ (ReLU)              │ 144)              │         │                      │\n",
      "├─────────────────────┼───────────────────┼─────────┼──────────────────────┤\n",
      "│ block_3_project     │ (None, 28, 28,    │   4,608 │ block_3_depthwise_r… │\n",
      "│ (Conv2D)            │ 32)               │         │                      │\n",
      "├─────────────────────┼───────────────────┼─────────┼──────────────────────┤\n",
      "│ block_3_project_BN  │ (None, 28, 28,    │     128 │ block_3_project[0][… │\n",
      "│ (BatchNormalizatio… │ 32)               │         │                      │\n",
      "├─────────────────────┼───────────────────┼─────────┼──────────────────────┤\n",
      "│ block_4_expand      │ (None, 28, 28,    │   6,144 │ block_3_project_BN[… │\n",
      "│ (Conv2D)            │ 192)              │         │                      │\n",
      "├─────────────────────┼───────────────────┼─────────┼──────────────────────┤\n",
      "│ block_4_expand_BN   │ (None, 28, 28,    │     768 │ block_4_expand[0][0] │\n",
      "│ (BatchNormalizatio… │ 192)              │         │                      │\n",
      "├─────────────────────┼───────────────────┼─────────┼──────────────────────┤\n",
      "│ block_4_expand_relu │ (None, 28, 28,    │       0 │ block_4_expand_BN[0… │\n",
      "│ (ReLU)              │ 192)              │         │                      │\n",
      "├─────────────────────┼───────────────────┼─────────┼──────────────────────┤\n",
      "│ block_4_depthwise   │ (None, 28, 28,    │   1,728 │ block_4_expand_relu… │\n",
      "│ (DepthwiseConv2D)   │ 192)              │         │                      │\n",
      "├─────────────────────┼───────────────────┼─────────┼──────────────────────┤\n",
      "│ block_4_depthwise_… │ (None, 28, 28,    │     768 │ block_4_depthwise[0… │\n",
      "│ (BatchNormalizatio… │ 192)              │         │                      │\n",
      "├─────────────────────┼───────────────────┼─────────┼──────────────────────┤\n",
      "│ block_4_depthwise_… │ (None, 28, 28,    │       0 │ block_4_depthwise_B… │\n",
      "│ (ReLU)              │ 192)              │         │                      │\n",
      "├─────────────────────┼───────────────────┼─────────┼──────────────────────┤\n",
      "│ block_4_project     │ (None, 28, 28,    │   6,144 │ block_4_depthwise_r… │\n",
      "│ (Conv2D)            │ 32)               │         │                      │\n",
      "├─────────────────────┼───────────────────┼─────────┼──────────────────────┤\n",
      "│ block_4_project_BN  │ (None, 28, 28,    │     128 │ block_4_project[0][… │\n",
      "│ (BatchNormalizatio… │ 32)               │         │                      │\n",
      "├─────────────────────┼───────────────────┼─────────┼──────────────────────┤\n",
      "│ block_4_add (Add)   │ (None, 28, 28,    │       0 │ block_3_project_BN[… │\n",
      "│                     │ 32)               │         │ block_4_project_BN[… │\n",
      "├─────────────────────┼───────────────────┼─────────┼──────────────────────┤\n",
      "│ block_5_expand      │ (None, 28, 28,    │   6,144 │ block_4_add[0][0]    │\n",
      "│ (Conv2D)            │ 192)              │         │                      │\n",
      "├─────────────────────┼───────────────────┼─────────┼──────────────────────┤\n",
      "│ block_5_expand_BN   │ (None, 28, 28,    │     768 │ block_5_expand[0][0] │\n",
      "│ (BatchNormalizatio… │ 192)              │         │                      │\n",
      "├─────────────────────┼───────────────────┼─────────┼──────────────────────┤\n",
      "│ block_5_expand_relu │ (None, 28, 28,    │       0 │ block_5_expand_BN[0… │\n",
      "│ (ReLU)              │ 192)              │         │                      │\n",
      "├─────────────────────┼───────────────────┼─────────┼──────────────────────┤\n",
      "│ block_5_depthwise   │ (None, 28, 28,    │   1,728 │ block_5_expand_relu… │\n",
      "│ (DepthwiseConv2D)   │ 192)              │         │                      │\n",
      "├─────────────────────┼───────────────────┼─────────┼──────────────────────┤\n",
      "│ block_5_depthwise_… │ (None, 28, 28,    │     768 │ block_5_depthwise[0… │\n",
      "│ (BatchNormalizatio… │ 192)              │         │                      │\n",
      "├─────────────────────┼───────────────────┼─────────┼──────────────────────┤\n",
      "│ block_5_depthwise_… │ (None, 28, 28,    │       0 │ block_5_depthwise_B… │\n",
      "│ (ReLU)              │ 192)              │         │                      │\n",
      "├─────────────────────┼───────────────────┼─────────┼──────────────────────┤\n",
      "│ block_5_project     │ (None, 28, 28,    │   6,144 │ block_5_depthwise_r… │\n",
      "│ (Conv2D)            │ 32)               │         │                      │\n",
      "├─────────────────────┼───────────────────┼─────────┼──────────────────────┤\n",
      "│ block_5_project_BN  │ (None, 28, 28,    │     128 │ block_5_project[0][… │\n",
      "│ (BatchNormalizatio… │ 32)               │         │                      │\n",
      "├─────────────────────┼───────────────────┼─────────┼──────────────────────┤\n",
      "│ block_5_add (Add)   │ (None, 28, 28,    │       0 │ block_4_add[0][0],   │\n",
      "│                     │ 32)               │         │ block_5_project_BN[… │\n",
      "├─────────────────────┼───────────────────┼─────────┼──────────────────────┤\n",
      "│ block_6_expand      │ (None, 28, 28,    │   6,144 │ block_5_add[0][0]    │\n",
      "│ (Conv2D)            │ 192)              │         │                      │\n",
      "├─────────────────────┼───────────────────┼─────────┼──────────────────────┤\n",
      "│ block_6_expand_BN   │ (None, 28, 28,    │     768 │ block_6_expand[0][0] │\n",
      "│ (BatchNormalizatio… │ 192)              │         │                      │\n",
      "├─────────────────────┼───────────────────┼─────────┼──────────────────────┤\n",
      "│ block_6_expand_relu │ (None, 28, 28,    │       0 │ block_6_expand_BN[0… │\n",
      "│ (ReLU)              │ 192)              │         │                      │\n",
      "├─────────────────────┼───────────────────┼─────────┼──────────────────────┤\n",
      "│ block_6_pad         │ (None, 29, 29,    │       0 │ block_6_expand_relu… │\n",
      "│ (ZeroPadding2D)     │ 192)              │         │                      │\n",
      "├─────────────────────┼───────────────────┼─────────┼──────────────────────┤\n",
      "│ block_6_depthwise   │ (None, 14, 14,    │   1,728 │ block_6_pad[0][0]    │\n",
      "│ (DepthwiseConv2D)   │ 192)              │         │                      │\n",
      "├─────────────────────┼───────────────────┼─────────┼──────────────────────┤\n",
      "│ block_6_depthwise_… │ (None, 14, 14,    │     768 │ block_6_depthwise[0… │\n",
      "│ (BatchNormalizatio… │ 192)              │         │                      │\n",
      "├─────────────────────┼───────────────────┼─────────┼──────────────────────┤\n",
      "│ block_6_depthwise_… │ (None, 14, 14,    │       0 │ block_6_depthwise_B… │\n",
      "│ (ReLU)              │ 192)              │         │                      │\n",
      "├─────────────────────┼───────────────────┼─────────┼──────────────────────┤\n",
      "│ block_6_project     │ (None, 14, 14,    │  12,288 │ block_6_depthwise_r… │\n",
      "│ (Conv2D)            │ 64)               │         │                      │\n",
      "├─────────────────────┼───────────────────┼─────────┼──────────────────────┤\n",
      "│ block_6_project_BN  │ (None, 14, 14,    │     256 │ block_6_project[0][… │\n",
      "│ (BatchNormalizatio… │ 64)               │         │                      │\n",
      "├─────────────────────┼───────────────────┼─────────┼──────────────────────┤\n",
      "│ block_7_expand      │ (None, 14, 14,    │  24,576 │ block_6_project_BN[… │\n",
      "│ (Conv2D)            │ 384)              │         │                      │\n",
      "├─────────────────────┼───────────────────┼─────────┼──────────────────────┤\n",
      "│ block_7_expand_BN   │ (None, 14, 14,    │   1,536 │ block_7_expand[0][0] │\n",
      "│ (BatchNormalizatio… │ 384)              │         │                      │\n",
      "├─────────────────────┼───────────────────┼─────────┼──────────────────────┤\n",
      "│ block_7_expand_relu │ (None, 14, 14,    │       0 │ block_7_expand_BN[0… │\n",
      "│ (ReLU)              │ 384)              │         │                      │\n",
      "├─────────────────────┼───────────────────┼─────────┼──────────────────────┤\n",
      "│ block_7_depthwise   │ (None, 14, 14,    │   3,456 │ block_7_expand_relu… │\n",
      "│ (DepthwiseConv2D)   │ 384)              │         │                      │\n",
      "├─────────────────────┼───────────────────┼─────────┼──────────────────────┤\n",
      "│ block_7_depthwise_… │ (None, 14, 14,    │   1,536 │ block_7_depthwise[0… │\n",
      "│ (BatchNormalizatio… │ 384)              │         │                      │\n",
      "├─────────────────────┼───────────────────┼─────────┼──────────────────────┤\n",
      "│ block_7_depthwise_… │ (None, 14, 14,    │       0 │ block_7_depthwise_B… │\n",
      "│ (ReLU)              │ 384)              │         │                      │\n",
      "├─────────────────────┼───────────────────┼─────────┼──────────────────────┤\n",
      "│ block_7_project     │ (None, 14, 14,    │  24,576 │ block_7_depthwise_r… │\n",
      "│ (Conv2D)            │ 64)               │         │                      │\n",
      "├─────────────────────┼───────────────────┼─────────┼──────────────────────┤\n",
      "│ block_7_project_BN  │ (None, 14, 14,    │     256 │ block_7_project[0][… │\n",
      "│ (BatchNormalizatio… │ 64)               │         │                      │\n",
      "├─────────────────────┼───────────────────┼─────────┼──────────────────────┤\n",
      "│ block_7_add (Add)   │ (None, 14, 14,    │       0 │ block_6_project_BN[… │\n",
      "│                     │ 64)               │         │ block_7_project_BN[… │\n",
      "├─────────────────────┼───────────────────┼─────────┼──────────────────────┤\n",
      "│ block_8_expand      │ (None, 14, 14,    │  24,576 │ block_7_add[0][0]    │\n",
      "│ (Conv2D)            │ 384)              │         │                      │\n",
      "├─────────────────────┼───────────────────┼─────────┼──────────────────────┤\n",
      "│ block_8_expand_BN   │ (None, 14, 14,    │   1,536 │ block_8_expand[0][0] │\n",
      "│ (BatchNormalizatio… │ 384)              │         │                      │\n",
      "├─────────────────────┼───────────────────┼─────────┼──────────────────────┤\n",
      "│ block_8_expand_relu │ (None, 14, 14,    │       0 │ block_8_expand_BN[0… │\n",
      "│ (ReLU)              │ 384)              │         │                      │\n",
      "├─────────────────────┼───────────────────┼─────────┼──────────────────────┤\n",
      "│ block_8_depthwise   │ (None, 14, 14,    │   3,456 │ block_8_expand_relu… │\n",
      "│ (DepthwiseConv2D)   │ 384)              │         │                      │\n",
      "├─────────────────────┼───────────────────┼─────────┼──────────────────────┤\n",
      "│ block_8_depthwise_… │ (None, 14, 14,    │   1,536 │ block_8_depthwise[0… │\n",
      "│ (BatchNormalizatio… │ 384)              │         │                      │\n",
      "├─────────────────────┼───────────────────┼─────────┼──────────────────────┤\n",
      "│ block_8_depthwise_… │ (None, 14, 14,    │       0 │ block_8_depthwise_B… │\n",
      "│ (ReLU)              │ 384)              │         │                      │\n",
      "├─────────────────────┼───────────────────┼─────────┼──────────────────────┤\n",
      "│ block_8_project     │ (None, 14, 14,    │  24,576 │ block_8_depthwise_r… │\n",
      "│ (Conv2D)            │ 64)               │         │                      │\n",
      "├─────────────────────┼───────────────────┼─────────┼──────────────────────┤\n",
      "│ block_8_project_BN  │ (None, 14, 14,    │     256 │ block_8_project[0][… │\n",
      "│ (BatchNormalizatio… │ 64)               │         │                      │\n",
      "├─────────────────────┼───────────────────┼─────────┼──────────────────────┤\n",
      "│ block_8_add (Add)   │ (None, 14, 14,    │       0 │ block_7_add[0][0],   │\n",
      "│                     │ 64)               │         │ block_8_project_BN[… │\n",
      "├─────────────────────┼───────────────────┼─────────┼──────────────────────┤\n",
      "│ block_9_expand      │ (None, 14, 14,    │  24,576 │ block_8_add[0][0]    │\n",
      "│ (Conv2D)            │ 384)              │         │                      │\n",
      "├─────────────────────┼───────────────────┼─────────┼──────────────────────┤\n",
      "│ block_9_expand_BN   │ (None, 14, 14,    │   1,536 │ block_9_expand[0][0] │\n",
      "│ (BatchNormalizatio… │ 384)              │         │                      │\n",
      "├─────────────────────┼───────────────────┼─────────┼──────────────────────┤\n",
      "│ block_9_expand_relu │ (None, 14, 14,    │       0 │ block_9_expand_BN[0… │\n",
      "│ (ReLU)              │ 384)              │         │                      │\n",
      "├─────────────────────┼───────────────────┼─────────┼──────────────────────┤\n",
      "│ block_9_depthwise   │ (None, 14, 14,    │   3,456 │ block_9_expand_relu… │\n",
      "│ (DepthwiseConv2D)   │ 384)              │         │                      │\n",
      "├─────────────────────┼───────────────────┼─────────┼──────────────────────┤\n",
      "│ block_9_depthwise_… │ (None, 14, 14,    │   1,536 │ block_9_depthwise[0… │\n",
      "│ (BatchNormalizatio… │ 384)              │         │                      │\n",
      "├─────────────────────┼───────────────────┼─────────┼──────────────────────┤\n",
      "│ block_9_depthwise_… │ (None, 14, 14,    │       0 │ block_9_depthwise_B… │\n",
      "│ (ReLU)              │ 384)              │         │                      │\n",
      "├─────────────────────┼───────────────────┼─────────┼──────────────────────┤\n",
      "│ block_9_project     │ (None, 14, 14,    │  24,576 │ block_9_depthwise_r… │\n",
      "│ (Conv2D)            │ 64)               │         │                      │\n",
      "├─────────────────────┼───────────────────┼─────────┼──────────────────────┤\n",
      "│ block_9_project_BN  │ (None, 14, 14,    │     256 │ block_9_project[0][… │\n",
      "│ (BatchNormalizatio… │ 64)               │         │                      │\n",
      "├─────────────────────┼───────────────────┼─────────┼──────────────────────┤\n",
      "│ block_9_add (Add)   │ (None, 14, 14,    │       0 │ block_8_add[0][0],   │\n",
      "│                     │ 64)               │         │ block_9_project_BN[… │\n",
      "├─────────────────────┼───────────────────┼─────────┼──────────────────────┤\n",
      "│ block_10_expand     │ (None, 14, 14,    │  24,576 │ block_9_add[0][0]    │\n",
      "│ (Conv2D)            │ 384)              │         │                      │\n",
      "├─────────────────────┼───────────────────┼─────────┼──────────────────────┤\n",
      "│ block_10_expand_BN  │ (None, 14, 14,    │   1,536 │ block_10_expand[0][… │\n",
      "│ (BatchNormalizatio… │ 384)              │         │                      │\n",
      "├─────────────────────┼───────────────────┼─────────┼──────────────────────┤\n",
      "│ block_10_expand_re… │ (None, 14, 14,    │       0 │ block_10_expand_BN[… │\n",
      "│ (ReLU)              │ 384)              │         │                      │\n",
      "├─────────────────────┼───────────────────┼─────────┼──────────────────────┤\n",
      "│ block_10_depthwise  │ (None, 14, 14,    │   3,456 │ block_10_expand_rel… │\n",
      "│ (DepthwiseConv2D)   │ 384)              │         │                      │\n",
      "├─────────────────────┼───────────────────┼─────────┼──────────────────────┤\n",
      "│ block_10_depthwise… │ (None, 14, 14,    │   1,536 │ block_10_depthwise[… │\n",
      "│ (BatchNormalizatio… │ 384)              │         │                      │\n",
      "├─────────────────────┼───────────────────┼─────────┼──────────────────────┤\n",
      "│ block_10_depthwise… │ (None, 14, 14,    │       0 │ block_10_depthwise_… │\n",
      "│ (ReLU)              │ 384)              │         │                      │\n",
      "├─────────────────────┼───────────────────┼─────────┼──────────────────────┤\n",
      "│ block_10_project    │ (None, 14, 14,    │  36,864 │ block_10_depthwise_… │\n",
      "│ (Conv2D)            │ 96)               │         │                      │\n",
      "├─────────────────────┼───────────────────┼─────────┼──────────────────────┤\n",
      "│ block_10_project_BN │ (None, 14, 14,    │     384 │ block_10_project[0]… │\n",
      "│ (BatchNormalizatio… │ 96)               │         │                      │\n",
      "├─────────────────────┼───────────────────┼─────────┼──────────────────────┤\n",
      "│ block_11_expand     │ (None, 14, 14,    │  55,296 │ block_10_project_BN… │\n",
      "│ (Conv2D)            │ 576)              │         │                      │\n",
      "├─────────────────────┼───────────────────┼─────────┼──────────────────────┤\n",
      "│ block_11_expand_BN  │ (None, 14, 14,    │   2,304 │ block_11_expand[0][… │\n",
      "│ (BatchNormalizatio… │ 576)              │         │                      │\n",
      "├─────────────────────┼───────────────────┼─────────┼──────────────────────┤\n",
      "│ block_11_expand_re… │ (None, 14, 14,    │       0 │ block_11_expand_BN[… │\n",
      "│ (ReLU)              │ 576)              │         │                      │\n",
      "├─────────────────────┼───────────────────┼─────────┼──────────────────────┤\n",
      "│ block_11_depthwise  │ (None, 14, 14,    │   5,184 │ block_11_expand_rel… │\n",
      "│ (DepthwiseConv2D)   │ 576)              │         │                      │\n",
      "├─────────────────────┼───────────────────┼─────────┼──────────────────────┤\n",
      "│ block_11_depthwise… │ (None, 14, 14,    │   2,304 │ block_11_depthwise[… │\n",
      "│ (BatchNormalizatio… │ 576)              │         │                      │\n",
      "├─────────────────────┼───────────────────┼─────────┼──────────────────────┤\n",
      "│ block_11_depthwise… │ (None, 14, 14,    │       0 │ block_11_depthwise_… │\n",
      "│ (ReLU)              │ 576)              │         │                      │\n",
      "├─────────────────────┼───────────────────┼─────────┼──────────────────────┤\n",
      "│ block_11_project    │ (None, 14, 14,    │  55,296 │ block_11_depthwise_… │\n",
      "│ (Conv2D)            │ 96)               │         │                      │\n",
      "├─────────────────────┼───────────────────┼─────────┼──────────────────────┤\n",
      "│ block_11_project_BN │ (None, 14, 14,    │     384 │ block_11_project[0]… │\n",
      "│ (BatchNormalizatio… │ 96)               │         │                      │\n",
      "├─────────────────────┼───────────────────┼─────────┼──────────────────────┤\n",
      "│ block_11_add (Add)  │ (None, 14, 14,    │       0 │ block_10_project_BN… │\n",
      "│                     │ 96)               │         │ block_11_project_BN… │\n",
      "├─────────────────────┼───────────────────┼─────────┼──────────────────────┤\n",
      "│ block_12_expand     │ (None, 14, 14,    │  55,296 │ block_11_add[0][0]   │\n",
      "│ (Conv2D)            │ 576)              │         │                      │\n",
      "├─────────────────────┼───────────────────┼─────────┼──────────────────────┤\n",
      "│ block_12_expand_BN  │ (None, 14, 14,    │   2,304 │ block_12_expand[0][… │\n",
      "│ (BatchNormalizatio… │ 576)              │         │                      │\n",
      "├─────────────────────┼───────────────────┼─────────┼──────────────────────┤\n",
      "│ block_12_expand_re… │ (None, 14, 14,    │       0 │ block_12_expand_BN[… │\n",
      "│ (ReLU)              │ 576)              │         │                      │\n",
      "├─────────────────────┼───────────────────┼─────────┼──────────────────────┤\n",
      "│ block_12_depthwise  │ (None, 14, 14,    │   5,184 │ block_12_expand_rel… │\n",
      "│ (DepthwiseConv2D)   │ 576)              │         │                      │\n",
      "├─────────────────────┼───────────────────┼─────────┼──────────────────────┤\n",
      "│ block_12_depthwise… │ (None, 14, 14,    │   2,304 │ block_12_depthwise[… │\n",
      "│ (BatchNormalizatio… │ 576)              │         │                      │\n",
      "├─────────────────────┼───────────────────┼─────────┼──────────────────────┤\n",
      "│ block_12_depthwise… │ (None, 14, 14,    │       0 │ block_12_depthwise_… │\n",
      "│ (ReLU)              │ 576)              │         │                      │\n",
      "├─────────────────────┼───────────────────┼─────────┼──────────────────────┤\n",
      "│ block_12_project    │ (None, 14, 14,    │  55,296 │ block_12_depthwise_… │\n",
      "│ (Conv2D)            │ 96)               │         │                      │\n",
      "├─────────────────────┼───────────────────┼─────────┼──────────────────────┤\n",
      "│ block_12_project_BN │ (None, 14, 14,    │     384 │ block_12_project[0]… │\n",
      "│ (BatchNormalizatio… │ 96)               │         │                      │\n",
      "├─────────────────────┼───────────────────┼─────────┼──────────────────────┤\n",
      "│ block_12_add (Add)  │ (None, 14, 14,    │       0 │ block_11_add[0][0],  │\n",
      "│                     │ 96)               │         │ block_12_project_BN… │\n",
      "├─────────────────────┼───────────────────┼─────────┼──────────────────────┤\n",
      "│ block_13_expand     │ (None, 14, 14,    │  55,296 │ block_12_add[0][0]   │\n",
      "│ (Conv2D)            │ 576)              │         │                      │\n",
      "├─────────────────────┼───────────────────┼─────────┼──────────────────────┤\n",
      "│ block_13_expand_BN  │ (None, 14, 14,    │   2,304 │ block_13_expand[0][… │\n",
      "│ (BatchNormalizatio… │ 576)              │         │                      │\n",
      "├─────────────────────┼───────────────────┼─────────┼──────────────────────┤\n",
      "│ block_13_expand_re… │ (None, 14, 14,    │       0 │ block_13_expand_BN[… │\n",
      "│ (ReLU)              │ 576)              │         │                      │\n",
      "├─────────────────────┼───────────────────┼─────────┼──────────────────────┤\n",
      "│ block_13_pad        │ (None, 15, 15,    │       0 │ block_13_expand_rel… │\n",
      "│ (ZeroPadding2D)     │ 576)              │         │                      │\n",
      "├─────────────────────┼───────────────────┼─────────┼──────────────────────┤\n",
      "│ block_13_depthwise  │ (None, 7, 7, 576) │   5,184 │ block_13_pad[0][0]   │\n",
      "│ (DepthwiseConv2D)   │                   │         │                      │\n",
      "├─────────────────────┼───────────────────┼─────────┼──────────────────────┤\n",
      "│ block_13_depthwise… │ (None, 7, 7, 576) │   2,304 │ block_13_depthwise[… │\n",
      "│ (BatchNormalizatio… │                   │         │                      │\n",
      "├─────────────────────┼───────────────────┼─────────┼──────────────────────┤\n",
      "│ block_13_depthwise… │ (None, 7, 7, 576) │       0 │ block_13_depthwise_… │\n",
      "│ (ReLU)              │                   │         │                      │\n",
      "├─────────────────────┼───────────────────┼─────────┼──────────────────────┤\n",
      "│ block_13_project    │ (None, 7, 7, 160) │  92,160 │ block_13_depthwise_… │\n",
      "│ (Conv2D)            │                   │         │                      │\n",
      "├─────────────────────┼───────────────────┼─────────┼──────────────────────┤\n",
      "│ block_13_project_BN │ (None, 7, 7, 160) │     640 │ block_13_project[0]… │\n",
      "│ (BatchNormalizatio… │                   │         │                      │\n",
      "├─────────────────────┼───────────────────┼─────────┼──────────────────────┤\n",
      "│ block_14_expand     │ (None, 7, 7, 960) │ 153,600 │ block_13_project_BN… │\n",
      "│ (Conv2D)            │                   │         │                      │\n",
      "├─────────────────────┼───────────────────┼─────────┼──────────────────────┤\n",
      "│ block_14_expand_BN  │ (None, 7, 7, 960) │   3,840 │ block_14_expand[0][… │\n",
      "│ (BatchNormalizatio… │                   │         │                      │\n",
      "├─────────────────────┼───────────────────┼─────────┼──────────────────────┤\n",
      "│ block_14_expand_re… │ (None, 7, 7, 960) │       0 │ block_14_expand_BN[… │\n",
      "│ (ReLU)              │                   │         │                      │\n",
      "├─────────────────────┼───────────────────┼─────────┼──────────────────────┤\n",
      "│ block_14_depthwise  │ (None, 7, 7, 960) │   8,640 │ block_14_expand_rel… │\n",
      "│ (DepthwiseConv2D)   │                   │         │                      │\n",
      "├─────────────────────┼───────────────────┼─────────┼──────────────────────┤\n",
      "│ block_14_depthwise… │ (None, 7, 7, 960) │   3,840 │ block_14_depthwise[… │\n",
      "│ (BatchNormalizatio… │                   │         │                      │\n",
      "├─────────────────────┼───────────────────┼─────────┼──────────────────────┤\n",
      "│ block_14_depthwise… │ (None, 7, 7, 960) │       0 │ block_14_depthwise_… │\n",
      "│ (ReLU)              │                   │         │                      │\n",
      "├─────────────────────┼───────────────────┼─────────┼──────────────────────┤\n",
      "│ block_14_project    │ (None, 7, 7, 160) │ 153,600 │ block_14_depthwise_… │\n",
      "│ (Conv2D)            │                   │         │                      │\n",
      "├─────────────────────┼───────────────────┼─────────┼──────────────────────┤\n",
      "│ block_14_project_BN │ (None, 7, 7, 160) │     640 │ block_14_project[0]… │\n",
      "│ (BatchNormalizatio… │                   │         │                      │\n",
      "├─────────────────────┼───────────────────┼─────────┼──────────────────────┤\n",
      "│ block_14_add (Add)  │ (None, 7, 7, 160) │       0 │ block_13_project_BN… │\n",
      "│                     │                   │         │ block_14_project_BN… │\n",
      "├─────────────────────┼───────────────────┼─────────┼──────────────────────┤\n",
      "│ block_15_expand     │ (None, 7, 7, 960) │ 153,600 │ block_14_add[0][0]   │\n",
      "│ (Conv2D)            │                   │         │                      │\n",
      "├─────────────────────┼───────────────────┼─────────┼──────────────────────┤\n",
      "│ block_15_expand_BN  │ (None, 7, 7, 960) │   3,840 │ block_15_expand[0][… │\n",
      "│ (BatchNormalizatio… │                   │         │                      │\n",
      "├─────────────────────┼───────────────────┼─────────┼──────────────────────┤\n",
      "│ block_15_expand_re… │ (None, 7, 7, 960) │       0 │ block_15_expand_BN[… │\n",
      "│ (ReLU)              │                   │         │                      │\n",
      "├─────────────────────┼───────────────────┼─────────┼──────────────────────┤\n",
      "│ block_15_depthwise  │ (None, 7, 7, 960) │   8,640 │ block_15_expand_rel… │\n",
      "│ (DepthwiseConv2D)   │                   │         │                      │\n",
      "├─────────────────────┼───────────────────┼─────────┼──────────────────────┤\n",
      "│ block_15_depthwise… │ (None, 7, 7, 960) │   3,840 │ block_15_depthwise[… │\n",
      "│ (BatchNormalizatio… │                   │         │                      │\n",
      "├─────────────────────┼───────────────────┼─────────┼──────────────────────┤\n",
      "│ block_15_depthwise… │ (None, 7, 7, 960) │       0 │ block_15_depthwise_… │\n",
      "│ (ReLU)              │                   │         │                      │\n",
      "├─────────────────────┼───────────────────┼─────────┼──────────────────────┤\n",
      "│ block_15_project    │ (None, 7, 7, 160) │ 153,600 │ block_15_depthwise_… │\n",
      "│ (Conv2D)            │                   │         │                      │\n",
      "├─────────────────────┼───────────────────┼─────────┼──────────────────────┤\n",
      "│ block_15_project_BN │ (None, 7, 7, 160) │     640 │ block_15_project[0]… │\n",
      "│ (BatchNormalizatio… │                   │         │                      │\n",
      "├─────────────────────┼───────────────────┼─────────┼──────────────────────┤\n",
      "│ block_15_add (Add)  │ (None, 7, 7, 160) │       0 │ block_14_add[0][0],  │\n",
      "│                     │                   │         │ block_15_project_BN… │\n",
      "├─────────────────────┼───────────────────┼─────────┼──────────────────────┤\n",
      "│ block_16_expand     │ (None, 7, 7, 960) │ 153,600 │ block_15_add[0][0]   │\n",
      "│ (Conv2D)            │                   │         │                      │\n",
      "├─────────────────────┼───────────────────┼─────────┼──────────────────────┤\n",
      "│ block_16_expand_BN  │ (None, 7, 7, 960) │   3,840 │ block_16_expand[0][… │\n",
      "│ (BatchNormalizatio… │                   │         │                      │\n",
      "├─────────────────────┼───────────────────┼─────────┼──────────────────────┤\n",
      "│ block_16_expand_re… │ (None, 7, 7, 960) │       0 │ block_16_expand_BN[… │\n",
      "│ (ReLU)              │                   │         │                      │\n",
      "├─────────────────────┼───────────────────┼─────────┼──────────────────────┤\n",
      "│ block_16_depthwise  │ (None, 7, 7, 960) │   8,640 │ block_16_expand_rel… │\n",
      "│ (DepthwiseConv2D)   │                   │         │                      │\n",
      "├─────────────────────┼───────────────────┼─────────┼──────────────────────┤\n",
      "│ block_16_depthwise… │ (None, 7, 7, 960) │   3,840 │ block_16_depthwise[… │\n",
      "│ (BatchNormalizatio… │                   │         │                      │\n",
      "├─────────────────────┼───────────────────┼─────────┼──────────────────────┤\n",
      "│ block_16_depthwise… │ (None, 7, 7, 960) │       0 │ block_16_depthwise_… │\n",
      "│ (ReLU)              │                   │         │                      │\n",
      "├─────────────────────┼───────────────────┼─────────┼──────────────────────┤\n",
      "│ block_16_project    │ (None, 7, 7, 320) │ 307,200 │ block_16_depthwise_… │\n",
      "│ (Conv2D)            │                   │         │                      │\n",
      "├─────────────────────┼───────────────────┼─────────┼──────────────────────┤\n",
      "│ block_16_project_BN │ (None, 7, 7, 320) │   1,280 │ block_16_project[0]… │\n",
      "│ (BatchNormalizatio… │                   │         │                      │\n",
      "├─────────────────────┼───────────────────┼─────────┼──────────────────────┤\n",
      "│ Conv_1 (Conv2D)     │ (None, 7, 7,      │ 409,600 │ block_16_project_BN… │\n",
      "│                     │ 1280)             │         │                      │\n",
      "├─────────────────────┼───────────────────┼─────────┼──────────────────────┤\n",
      "│ Conv_1_bn           │ (None, 7, 7,      │   5,120 │ Conv_1[0][0]         │\n",
      "│ (BatchNormalizatio… │ 1280)             │         │                      │\n",
      "├─────────────────────┼───────────────────┼─────────┼──────────────────────┤\n",
      "│ out_relu (ReLU)     │ (None, 7, 7,      │       0 │ Conv_1_bn[0][0]      │\n",
      "│                     │ 1280)             │         │                      │\n",
      "├─────────────────────┼───────────────────┼─────────┼──────────────────────┤\n",
      "│ global_average_poo… │ (None, 1280)      │       0 │ out_relu[0][0]       │\n",
      "│ (GlobalAveragePool… │                   │         │                      │\n",
      "└─────────────────────┴───────────────────┴─────────┴──────────────────────┘\n",
      " Total params: 2,257,984 (8.61 MB)\n",
      " Trainable params: 2,223,872 (8.48 MB)\n",
      " Non-trainable params: 34,112 (133.25 KB)"
     ]
    }
   ],
   "source": [
    "new_model.summary()"
   ]
  },
  {
   "cell_type": "markdown",
   "id": "2a0adcf5",
   "metadata": {},
   "source": [
    "Tous les workeurs doivent pouvoir accéder au modèle ainsi qu'à ses poids. <br />\n",
    "Une bonne pratique consiste à charger le modèle sur le driver puis à diffuser <br />\n",
    "ensuite les poids aux différents workeurs."
   ]
  },
  {
   "cell_type": "code",
   "execution_count": 9,
   "id": "1cc53ff0",
   "metadata": {
    "scrolled": true
   },
   "outputs": [
    {
     "data": {
      "application/vnd.jupyter.widget-view+json": {
       "model_id": "",
       "version_major": 2,
       "version_minor": 0
      },
      "text/plain": [
       "FloatProgress(value=0.0, bar_style='info', description='Progress:', layout=Layout(height='25px', width='50%'),…"
      ]
     },
     "metadata": {},
     "output_type": "display_data"
    }
   ],
   "source": [
    "brodcast_weights = sc.broadcast(new_model.get_weights())"
   ]
  },
  {
   "cell_type": "markdown",
   "id": "8bc0e34e",
   "metadata": {},
   "source": [
    "<u>Mettons cela sous forme de fonction</u> :"
   ]
  },
  {
   "cell_type": "code",
   "execution_count": 10,
   "id": "3fd51ba9",
   "metadata": {},
   "outputs": [
    {
     "data": {
      "application/vnd.jupyter.widget-view+json": {
       "model_id": "",
       "version_major": 2,
       "version_minor": 0
      },
      "text/plain": [
       "FloatProgress(value=0.0, bar_style='info', description='Progress:', layout=Layout(height='25px', width='50%'),…"
      ]
     },
     "metadata": {},
     "output_type": "display_data"
    }
   ],
   "source": [
    "def model_fn():\n",
    "    \"\"\"\n",
    "    Returns a MobileNetV2 model with top layer removed \n",
    "    and broadcasted pretrained weights.\n",
    "    \"\"\"\n",
    "    model = MobileNetV2(weights='imagenet',\n",
    "                        include_top=True,\n",
    "                        input_shape=(224, 224, 3))\n",
    "    for layer in model.layers:\n",
    "        layer.trainable = False\n",
    "    new_model = Model(inputs=model.input,\n",
    "                  outputs=model.layers[-2].output)\n",
    "    new_model.set_weights(brodcast_weights.value)\n",
    "    return new_model"
   ]
  },
  {
   "cell_type": "markdown",
   "id": "e5620876",
   "metadata": {},
   "source": [
    "---\n",
    "---\n",
    "## 1.4 - Création du pipeline :"
   ]
  },
  {
   "cell_type": "markdown",
   "id": "562474c6-d999-4072-bec5-708dfa31fa72",
   "metadata": {},
   "source": [
    "Afin de palier à une très forte influence sur le site, j'ai activé **l'auto-scaling** dans mon EMR, je vérifie donc que `Spark` est configuré comme il faut :"
   ]
  },
  {
   "cell_type": "code",
   "execution_count": null,
   "id": "87e076d8-db25-416e-8f63-ce528a339053",
   "metadata": {},
   "outputs": [],
   "source": [
    "print(spark.conf.get(\"spark.dynamicAllocation.enabled\"))"
   ]
  },
  {
   "cell_type": "markdown",
   "id": "bbaa85b4-1da1-4d33-b5db-26ad2f8f7d34",
   "metadata": {},
   "source": [
    "### 1.4.1 - Fonctions :"
   ]
  },
  {
   "cell_type": "markdown",
   "id": "97e58e26-5348-4ff0-92f1-df78dcc7d579",
   "metadata": {},
   "source": [
    "Je garde les fonctions utilisées en local, elles sont déjà optimisées avec le fait de cahrger une seule fois le modèle et de pouvoir traiter des `series` complètes."
   ]
  },
  {
   "cell_type": "code",
   "execution_count": 11,
   "id": "dc4e5f69",
   "metadata": {},
   "outputs": [
    {
     "data": {
      "application/vnd.jupyter.widget-view+json": {
       "model_id": "",
       "version_major": 2,
       "version_minor": 0
      },
      "text/plain": [
       "FloatProgress(value=0.0, bar_style='info', description='Progress:', layout=Layout(height='25px', width='50%'),…"
      ]
     },
     "metadata": {},
     "output_type": "display_data"
    },
    {
     "name": "stdout",
     "output_type": "stream",
     "text": [
      "/mnt/yarn/usercache/livy/appcache/application_1738920115233_0001/container_1738920115233_0001_01_000001/pyspark.zip/pyspark/sql/pandas/functions.py:407: UserWarning: In Python 3.6+ and Spark 3.0+, it is preferred to specify type hints for pandas UDF instead of specifying pandas UDF type which will be deprecated in the future releases. See SPARK-28264 for more details."
     ]
    }
   ],
   "source": [
    "def preprocess(content):\n",
    "    \"\"\"\n",
    "    Preprocesses raw image bytes for prediction.\n",
    "    \"\"\"\n",
    "    img = Image.open(io.BytesIO(content)).resize([224, 224])\n",
    "    arr = img_to_array(img)\n",
    "    return preprocess_input(arr)\n",
    "\n",
    "def featurize_series(model, content_series):\n",
    "    \"\"\"\n",
    "    Featurize a pd.Series of raw images using the input model.\n",
    "    :return: a pd.Series of image features\n",
    "    \"\"\"\n",
    "    input = np.stack(content_series.map(preprocess))\n",
    "    preds = model.predict(input)\n",
    "    # For some layers, output features will be multi-dimensional tensors.\n",
    "    # We flatten the feature tensors to vectors for easier storage in Spark DataFrames.\n",
    "    output = [p.flatten() for p in preds]\n",
    "    return pd.Series(output)\n",
    "\n",
    "@pandas_udf('array<float>'\n",
    "def featurize_udf(content_series_iter: Iterator[pd.Series]) -> Iterator[pd.Series]:\n",
    "    '''\n",
    "    This method is a Scalar Iterator pandas UDF wrapping our featurization function.\n",
    "    The decorator specifies that this returns a Spark DataFrame column of type ArrayType(FloatType).\n",
    "\n",
    "    :param content_series_iter: This argument is an iterator over batches of data, where each batch\n",
    "                              is a pandas Series of image data.\n",
    "    '''\n",
    "    # With Scalar Iterator pandas UDFs, we can load the model once and then re-use it\n",
    "    # for multiple data batches.  This amortizes the overhead of loading big models.\n",
    "    model = model_fn()\n",
    "    for content_series in content_series_iter:\n",
    "        yield featurize_series(model, content_series)"
   ]
  },
  {
   "cell_type": "markdown",
   "id": "9368f382-ebc0-4cf0-a031-f127f02d043d",
   "metadata": {},
   "source": [
    "Utilisation de `VectorAssembler` pour la production, plus efficace en pipeline."
   ]
  },
  {
   "cell_type": "markdown",
   "id": "86fa641c-ca2a-41b2-a3c9-e9bfefaaf89d",
   "metadata": {},
   "source": [
    "---\n",
    "### 1.4.2 - Vecteur dense :"
   ]
  },
  {
   "cell_type": "markdown",
   "id": "194a9f0f-b0a0-4046-8f08-3806e8a74d64",
   "metadata": {},
   "source": [
    "Préparation de la vectorisation, à intégrer dans le pipeline."
   ]
  },
  {
   "cell_type": "code",
   "execution_count": 24,
   "id": "e74c3829-9e27-4de9-9bae-c403932cdaca",
   "metadata": {},
   "outputs": [
    {
     "data": {
      "application/vnd.jupyter.widget-view+json": {
       "model_id": "",
       "version_major": 2,
       "version_minor": 0
      },
      "text/plain": [
       "FloatProgress(value=0.0, bar_style='info', description='Progress:', layout=Layout(height='25px', width='50%'),…"
      ]
     },
     "metadata": {},
     "output_type": "display_data"
    }
   ],
   "source": [
    "# array to dense vector\n",
    "to_vector_udf = udf(lambda x: Vectors.dense(x), VectorUDT())"
   ]
  },
  {
   "cell_type": "code",
   "execution_count": 27,
   "id": "31ed6c7a-af31-41f4-a2f0-40ad06ab7da3",
   "metadata": {},
   "outputs": [
    {
     "data": {
      "application/vnd.jupyter.widget-view+json": {
       "model_id": "",
       "version_major": 2,
       "version_minor": 0
      },
      "text/plain": [
       "FloatProgress(value=0.0, bar_style='info', description='Progress:', layout=Layout(height='25px', width='50%'),…"
      ]
     },
     "metadata": {},
     "output_type": "display_data"
    }
   ],
   "source": [
    "# convert \"features\" array in vector\n",
    "vector_assembler = VectorAssembler(inputCols=[\"features_vec\"], outputCol=\"features_vec_final\")"
   ]
  },
  {
   "cell_type": "markdown",
   "id": "318c42df-cf1d-4656-b2cc-153f48d39099",
   "metadata": {},
   "source": [
    "---\n",
    "### 1.4.3 - PCA :"
   ]
  },
  {
   "cell_type": "code",
   "execution_count": 28,
   "id": "fa27f819-3402-4a69-9a25-8f7dc3b402ff",
   "metadata": {},
   "outputs": [
    {
     "data": {
      "application/vnd.jupyter.widget-view+json": {
       "model_id": "",
       "version_major": 2,
       "version_minor": 0
      },
      "text/plain": [
       "FloatProgress(value=0.0, bar_style='info', description='Progress:', layout=Layout(height='25px', width='50%'),…"
      ]
     },
     "metadata": {},
     "output_type": "display_data"
    }
   ],
   "source": [
    "# PCA\n",
    "k_optimal = 186\n",
    "pca = PCA(k=k_optimal, inputCol=\"features_vec_final\", outputCol=\"pca_features\")"
   ]
  },
  {
   "cell_type": "markdown",
   "id": "72f7f8e4-5b1d-4100-b68c-3bf982963c64",
   "metadata": {},
   "source": [
    "---\n",
    "### 1.4.4 - Pipeline :"
   ]
  },
  {
   "cell_type": "code",
   "execution_count": 29,
   "id": "74badb31-f89c-41f5-93be-c9302ae79069",
   "metadata": {},
   "outputs": [
    {
     "data": {
      "application/vnd.jupyter.widget-view+json": {
       "model_id": "",
       "version_major": 2,
       "version_minor": 0
      },
      "text/plain": [
       "FloatProgress(value=0.0, bar_style='info', description='Progress:', layout=Layout(height='25px', width='50%'),…"
      ]
     },
     "metadata": {},
     "output_type": "display_data"
    }
   ],
   "source": [
    "# pipeline\n",
    "pipeline = Pipeline(stages=[vector_assembler, pca])"
   ]
  },
  {
   "cell_type": "markdown",
   "id": "eb2e94f6-33fe-4a7d-98ef-ed589b41535e",
   "metadata": {},
   "source": [
    "### 1.4.5 - Application du pipeline complet :"
   ]
  },
  {
   "cell_type": "markdown",
   "id": "584bf28d-3485-4b36-9700-0245e8b95877",
   "metadata": {},
   "source": [
    "Application de la featurisation et de la vectorisation en une seule fois."
   ]
  },
  {
   "cell_type": "code",
   "execution_count": null,
   "id": "bdd72db8-3b65-432f-815c-fc823d909835",
   "metadata": {},
   "outputs": [],
   "source": [
    "# features and vectors\n",
    "features_df = images.withColumn(\"features\", featurize_udf(col(\"content\"))) \\\n",
    "                    .withColumn(\"features_vec\", to_vector_udf(col(\"features\")))"
   ]
  },
  {
   "cell_type": "code",
   "execution_count": null,
   "id": "713639b7-d456-4436-bd50-9e8323d2234e",
   "metadata": {},
   "outputs": [],
   "source": [
    "# fit \n",
    "pipeline_model = pipeline.fit(features_df)"
   ]
  },
  {
   "cell_type": "code",
   "execution_count": null,
   "id": "bb2bd3ef-e53c-4036-a4e2-b4ba126f0435",
   "metadata": {},
   "outputs": [],
   "source": [
    "# transform\n",
    "df_pca = pipeline_model.transform(features_df)"
   ]
  },
  {
   "cell_type": "code",
   "execution_count": null,
   "id": "e64cabcb-e9c1-42a7-a9c0-8c63f6faceb1",
   "metadata": {},
   "outputs": [],
   "source": [
    "df_pca.printSchema()"
   ]
  },
  {
   "cell_type": "code",
   "execution_count": null,
   "id": "281ff397-26b7-4554-b46b-8393ea9c2aa1",
   "metadata": {},
   "outputs": [],
   "source": [
    "df_pca.show(5)"
   ]
  },
  {
   "cell_type": "markdown",
   "id": "e552c524-a70e-47d7-be80-038f419f0514",
   "metadata": {},
   "source": [
    "Ecriture des résultats en fichier `parquet`.  \n",
    "Optimisation avec `partitionBy` de Spark : [https://sparkbyexamples.com/pyspark/pyspark-partitionby-example/](https://sparkbyexamples.com/pyspark/pyspark-partitionby-example/)"
   ]
  },
  {
   "cell_type": "code",
   "execution_count": null,
   "id": "7ab4752b-6b0e-4090-9b10-ecfdd781948b",
   "metadata": {},
   "outputs": [],
   "source": [
    "df_pca.write.partitionBy(\"label\").mode(\"overwrite\").parquet(PATH_Result)"
   ]
  },
  {
   "cell_type": "markdown",
   "id": "59e9dbb6-e914-4765-9371-7628f75ff25f",
   "metadata": {},
   "source": [
    "Possibilité de sauvegarder le pipeline et de le recharger ensuite :"
   ]
  },
  {
   "cell_type": "code",
   "execution_count": 35,
   "id": "c4df4c09-aac5-4846-a7ba-231f49a1e100",
   "metadata": {},
   "outputs": [
    {
     "data": {
      "application/vnd.jupyter.widget-view+json": {
       "model_id": "",
       "version_major": 2,
       "version_minor": 0
      },
      "text/plain": [
       "FloatProgress(value=0.0, bar_style='info', description='Progress:', layout=Layout(height='25px', width='50%'),…"
      ]
     },
     "metadata": {},
     "output_type": "display_data"
    }
   ],
   "source": [
    "# save pipeline\n",
    "pipeline_model.save(PATH +\"/model/model_pca\")"
   ]
  },
  {
   "cell_type": "markdown",
   "id": "b0044442-6d05-46af-8f89-2907310072d3",
   "metadata": {},
   "source": [
    "Recharge avec :"
   ]
  },
  {
   "cell_type": "code",
   "execution_count": null,
   "id": "564b753f-7075-49d4-a7db-849c102325d6",
   "metadata": {},
   "outputs": [],
   "source": [
    "from pyspark.ml import PipelineModel\n",
    "pipeline_model_loaded = PipelineModel.load(PATH + \"/model/model_pca\")"
   ]
  }
 ],
 "metadata": {
  "kernelspec": {
   "display_name": "Python [conda env:projet_09]",
   "language": "python",
   "name": "conda-env-projet_09-py"
  },
  "language_info": {
   "codemirror_mode": {
    "name": "ipython",
    "version": 3
   },
   "file_extension": ".py",
   "mimetype": "text/x-python",
   "name": "python",
   "nbconvert_exporter": "python",
   "pygments_lexer": "ipython3",
   "version": "3.9.18"
  }
 },
 "nbformat": 4,
 "nbformat_minor": 5
}
