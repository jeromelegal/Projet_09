{
 "cells": [
  {
   "cell_type": "code",
   "execution_count": 1,
   "id": "cba6a745-deaa-4e44-8632-ab80ba10988a",
   "metadata": {},
   "outputs": [
    {
     "name": "stdout",
     "output_type": "stream",
     "text": [
      "Num GPUs Available: 1\n",
      "Test de calcul sur GPU...\n",
      "Temps d'exécution sur GPU: 0.23714518547058105 secondes\n",
      "Test terminé ! 🚀\n"
     ]
    },
    {
     "name": "stderr",
     "output_type": "stream",
     "text": [
      "I0000 00:00:1738161214.598053    8951 gpu_device.cc:2022] Created device /job:localhost/replica:0/task:0/device:GPU:0 with 22336 MB memory:  -> device: 0, name: NVIDIA GeForce RTX 3090, pci bus id: 0000:06:10.0, compute capability: 8.6\n"
     ]
    }
   ],
   "source": [
    "import tensorflow as tf\n",
    "import time\n",
    "\n",
    "# Vérifier le GPU\n",
    "print(\"Num GPUs Available:\", len(tf.config.list_physical_devices('GPU')))\n",
    "\n",
    "# Création d'un tenseur et multiplication\n",
    "print(\"Test de calcul sur GPU...\")\n",
    "with tf.device('/GPU:0'):\n",
    "    start_time = time.time()\n",
    "    a = tf.random.normal([10000, 10000])\n",
    "    b = tf.random.normal([10000, 10000])\n",
    "    c = tf.matmul(a, b)\n",
    "    print(\"Temps d'exécution sur GPU:\", time.time() - start_time, \"secondes\")\n",
    "\n",
    "print(\"Test terminé ! 🚀\")\n"
   ]
  },
  {
   "cell_type": "code",
   "execution_count": 2,
   "id": "0b4586e7-58f5-489d-84e8-8eaf87bf3089",
   "metadata": {},
   "outputs": [
    {
     "name": "stdout",
     "output_type": "stream",
     "text": [
      "Num GPUs Available: 1\n",
      "Multiplication OK!\n"
     ]
    }
   ],
   "source": [
    "import tensorflow as tf\n",
    "import numpy as np\n",
    "\n",
    "print(\"Num GPUs Available:\", len(tf.config.list_physical_devices('GPU')))\n",
    "\n",
    "with tf.device('/GPU:0'):\n",
    "    a = tf.random.normal([10000, 10000])\n",
    "    b = tf.random.normal([10000, 10000])\n",
    "    c = tf.matmul(a, b)\n",
    "    print(\"Multiplication OK!\")"
   ]
  },
  {
   "cell_type": "code",
   "execution_count": null,
   "id": "626e2863-13e9-434f-a827-041bb9586c09",
   "metadata": {},
   "outputs": [],
   "source": []
  }
 ],
 "metadata": {
  "kernelspec": {
   "display_name": "Python (projet_09)",
   "language": "python",
   "name": "projet_09"
  },
  "language_info": {
   "codemirror_mode": {
    "name": "ipython",
    "version": 3
   },
   "file_extension": ".py",
   "mimetype": "text/x-python",
   "name": "python",
   "nbconvert_exporter": "python",
   "pygments_lexer": "ipython3",
   "version": "3.9.18"
  }
 },
 "nbformat": 4,
 "nbformat_minor": 5
}
