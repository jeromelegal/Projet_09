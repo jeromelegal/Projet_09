{
 "cells": [
  {
   "cell_type": "markdown",
   "id": "3c18846f-0174-4c16-a80d-dcaf45208441",
   "metadata": {},
   "source": [
    "# Stratégie de mise sur le Cloud :"
   ]
  },
  {
   "cell_type": "markdown",
   "id": "1afcede4-bbbb-439b-81de-82d830704b9a",
   "metadata": {},
   "source": [
    "### Sommaire :"
   ]
  },
  {
   "cell_type": "markdown",
   "id": "d96b1936-9eaa-4877-ac03-80c09457c5d5",
   "metadata": {},
   "source": [
    "1. Contexte et présentation du projet\n",
    "2. Les contraintes du projet\n",
    "3. Propositions de solutions\n",
    "4. Mise en oeuvre"
   ]
  },
  {
   "cell_type": "markdown",
   "id": "2574c10e-f250-402a-bd0a-3906c9c76be5",
   "metadata": {},
   "source": [
    "---\n",
    "## 1 - Contexte et présentation du projet :"
   ]
  },
  {
   "cell_type": "markdown",
   "id": "5c733821-38cb-4037-9328-079f206785e0",
   "metadata": {},
   "source": [
    "Dans le cadre d'une création d'une application qui permet aux utilisateurs lambda d'obtenir des informations sur des fruits en les prenant en photo avec son téléphone, il nous incombe de déployer l'algorithme sur un environnement Big Data.  \n",
    "Il nous faudra tout d'abord finaliser le script de traitement des données en Spark, établir une solution adéquate à une augmentation rapide du volume des données à traiter ainsi que le nombre d'utilisateurs."
   ]
  },
  {
   "cell_type": "markdown",
   "id": "82bb370c-6ad2-43f8-a645-732f2a2e581e",
   "metadata": {},
   "source": [
    "---\n",
    "## 2 - Les contraintes du projet :"
   ]
  },
  {
   "cell_type": "markdown",
   "id": "931e138a-71fe-488b-888d-49c5377846eb",
   "metadata": {},
   "source": [
    "Ci dessous la liste des détails et contraintes à prendre en compte :\n",
    "* Script utiliant PySpark\n",
    "* Environnement Big Data sur le cloud\n",
    "* Respect des règles RGPD\n",
    "* "
   ]
  },
  {
   "cell_type": "markdown",
   "id": "34b7c66b-5097-45b5-82df-a1425ea752c6",
   "metadata": {},
   "source": [
    "---\n",
    "## 3 - Propositions de solutions :"
   ]
  },
  {
   "cell_type": "markdown",
   "id": "fba3b726-7305-4cae-ba62-f598227a1e52",
   "metadata": {},
   "source": [
    "La solutions sera déployé sur le Cloud d'amazon **AWS**, dans un **EMR** (Elastic MapReduce)."
   ]
  },
  {
   "cell_type": "markdown",
   "id": "e4ad4700-ef39-46b3-ac5b-8e99dfbd99b3",
   "metadata": {},
   "source": [
    "**Stockage** :\n",
    "* Données d'entrée (images client) : S3\n",
    "* Données "
   ]
  },
  {
   "cell_type": "markdown",
   "id": "24a5ddf2-923e-42b5-a3f0-8d1c8cd81cb8",
   "metadata": {},
   "source": [
    "* EC2 : serveur\n",
    "    * AMI suite à la config finalisée\n",
    "    * \n",
    "* S3 : solution de stockage des images\n",
    "* Services :\n",
    "    * Elastic Load Balancing (équilibrage des charges)\n",
    "    * Auto Scaling (mise à l'échelle suivant la demande)"
   ]
  },
  {
   "cell_type": "markdown",
   "id": "7a13f8e2-53ed-491f-ae32-797810c12fbd",
   "metadata": {},
   "source": [
    "Batch Layer :\n",
    "* S3: stockage des uploads d'images client\n",
    "* EC2\n",
    "* RDS: MySQL (base normalisée) "
   ]
  },
  {
   "cell_type": "code",
   "execution_count": null,
   "id": "19e90526-625e-495b-88c2-b8c99489598d",
   "metadata": {},
   "outputs": [],
   "source": []
  },
  {
   "cell_type": "code",
   "execution_count": null,
   "id": "a05568ff-bc47-466f-ab43-e85dc18fd8a0",
   "metadata": {},
   "outputs": [],
   "source": []
  },
  {
   "cell_type": "code",
   "execution_count": null,
   "id": "e481b734-a33d-4dd8-9313-8f4b2190213f",
   "metadata": {},
   "outputs": [],
   "source": []
  },
  {
   "cell_type": "code",
   "execution_count": null,
   "id": "f303540c-ecd9-483c-b2e5-4fddedd05e79",
   "metadata": {},
   "outputs": [],
   "source": []
  },
  {
   "cell_type": "code",
   "execution_count": null,
   "id": "b06127bf-d2b2-4b69-90ed-b9d206805d0e",
   "metadata": {},
   "outputs": [],
   "source": []
  },
  {
   "cell_type": "code",
   "execution_count": null,
   "id": "954c795e-36bd-4eff-83e8-f084c6d517cc",
   "metadata": {},
   "outputs": [],
   "source": []
  },
  {
   "cell_type": "code",
   "execution_count": null,
   "id": "4835eb78-d800-481d-856b-db0d423186a3",
   "metadata": {},
   "outputs": [],
   "source": []
  },
  {
   "cell_type": "code",
   "execution_count": null,
   "id": "ae4cfe5f-3b3e-43c0-816d-167d28078697",
   "metadata": {},
   "outputs": [],
   "source": []
  },
  {
   "cell_type": "code",
   "execution_count": null,
   "id": "f20a527d-ad30-42cf-9831-94b52718ba38",
   "metadata": {},
   "outputs": [],
   "source": []
  },
  {
   "cell_type": "code",
   "execution_count": null,
   "id": "a0daf4f4-a9fb-43df-aff9-14262e57c935",
   "metadata": {},
   "outputs": [],
   "source": []
  },
  {
   "cell_type": "code",
   "execution_count": null,
   "id": "2b1f1039-130a-44f2-9cc9-e24c7914b9fa",
   "metadata": {},
   "outputs": [],
   "source": []
  },
  {
   "cell_type": "code",
   "execution_count": null,
   "id": "3b9da51f-5bed-4765-b169-0fe746c9b3ba",
   "metadata": {},
   "outputs": [],
   "source": []
  },
  {
   "cell_type": "code",
   "execution_count": null,
   "id": "1fdd777d-38bf-416e-ba59-d758dae04a1c",
   "metadata": {},
   "outputs": [],
   "source": []
  },
  {
   "cell_type": "code",
   "execution_count": null,
   "id": "103291ac-1987-43d5-8b20-2fae9a81a7d1",
   "metadata": {},
   "outputs": [],
   "source": []
  },
  {
   "cell_type": "code",
   "execution_count": null,
   "id": "c2ea4211-5b0d-43e8-bfcc-8f90e84c873c",
   "metadata": {},
   "outputs": [],
   "source": []
  }
 ],
 "metadata": {
  "kernelspec": {
   "display_name": "Python (projet_09)",
   "language": "python",
   "name": "projet_09"
  },
  "language_info": {
   "codemirror_mode": {
    "name": "ipython",
    "version": 3
   },
   "file_extension": ".py",
   "mimetype": "text/x-python",
   "name": "python",
   "nbconvert_exporter": "python",
   "pygments_lexer": "ipython3",
   "version": "3.9.18"
  }
 },
 "nbformat": 4,
 "nbformat_minor": 5
}
